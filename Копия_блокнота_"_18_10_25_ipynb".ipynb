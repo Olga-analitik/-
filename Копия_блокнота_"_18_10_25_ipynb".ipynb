{
  "nbformat": 4,
  "nbformat_minor": 0,
  "metadata": {
    "colab": {
      "provenance": [],
      "authorship_tag": "ABX9TyM4BkTYFl6oqF9pWw1PTfZ2",
      "include_colab_link": true
    },
    "kernelspec": {
      "name": "python3",
      "display_name": "Python 3"
    },
    "language_info": {
      "name": "python"
    }
  },
  "cells": [
    {
      "cell_type": "markdown",
      "metadata": {
        "id": "view-in-github",
        "colab_type": "text"
      },
      "source": [
        "<a href=\"https://colab.research.google.com/github/Olga-analitik/-/blob/main/%D0%9A%D0%BE%D0%BF%D0%B8%D1%8F_%D0%B1%D0%BB%D0%BE%D0%BA%D0%BD%D0%BE%D1%82%D0%B0_%22_18_10_25_ipynb%22.ipynb\" target=\"_parent\"><img src=\"https://colab.research.google.com/assets/colab-badge.svg\" alt=\"Open In Colab\"/></a>"
      ]
    },
    {
      "cell_type": "code",
      "execution_count": 4,
      "metadata": {
        "id": "I8-ffjo_o7qx",
        "colab": {
          "base_uri": "https://localhost:8080/"
        },
        "outputId": "c9d29175-6277-402a-d150-25676e0cad78"
      },
      "outputs": [
        {
          "output_type": "stream",
          "name": "stdout",
          "text": [
            "Это моё первое кодовое поле\n"
          ]
        }
      ],
      "source": [
        "print(\"Это моё первое кодовое поле\")"
      ]
    },
    {
      "cell_type": "markdown",
      "source": [
        "Это моё первое текстовое поле."
      ],
      "metadata": {
        "id": "rcMHEmogrHhj"
      }
    }
  ]
}